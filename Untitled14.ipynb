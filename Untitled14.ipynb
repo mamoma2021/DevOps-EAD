{
  "nbformat": 4,
  "nbformat_minor": 0,
  "metadata": {
    "colab": {
      "provenance": [],
      "authorship_tag": "ABX9TyPfu27KEnAvbCLCfqL+AZkT",
      "include_colab_link": true
    },
    "kernelspec": {
      "name": "python3",
      "display_name": "Python 3"
    },
    "language_info": {
      "name": "python"
    }
  },
  "cells": [
    {
      "cell_type": "markdown",
      "metadata": {
        "id": "view-in-github",
        "colab_type": "text"
      },
      "source": [
        "<a href=\"https://colab.research.google.com/github/mamoma2021/DevOps-EAD/blob/main/Untitled14.ipynb\" target=\"_parent\"><img src=\"https://colab.research.google.com/assets/colab-badge.svg\" alt=\"Open In Colab\"/></a>"
      ]
    },
    {
      "cell_type": "code",
      "execution_count": 2,
      "metadata": {
        "colab": {
          "base_uri": "https://localhost:8080/"
        },
        "id": "_vP2QIgJCqBT",
        "outputId": "223fe1cb-bcf6-49ee-de5c-c5be9d85b494"
      },
      "outputs": [
        {
          "output_type": "stream",
          "name": "stdout",
          "text": [
            "Soma: 4.99\n",
            "Subtração: 1.010000\n",
            "Divisão: 1.507538\n",
            "Multiplicação: 5.970000\n",
            "Potencia: 8.901666\n"
          ]
        }
      ],
      "source": [
        "x = 3\n",
        "\n",
        "y = 1.99\n",
        "\n",
        "print(\"Soma: %.2f\" % (x + y))\n",
        "print(\"Subtração: %f\" % (x - y))\n",
        "print(\"Divisão: %f\" % (x/y))\n",
        "print(\"Multiplicação: %f\" % (x * y))\n",
        "print(\"Potencia: %f\" %(x ** y))"
      ]
    },
    {
      "cell_type": "code",
      "source": [
        "print(5>=5)\n",
        "print(10<6)\n",
        "print(2*5==10)"
      ],
      "metadata": {
        "colab": {
          "base_uri": "https://localhost:8080/"
        },
        "id": "EuTkU4e2QoXe",
        "outputId": "7c5c45a1-ed0b-4978-dba7-32d63770451c"
      },
      "execution_count": 3,
      "outputs": [
        {
          "output_type": "stream",
          "name": "stdout",
          "text": [
            "True\n",
            "False\n",
            "True\n"
          ]
        }
      ]
    },
    {
      "cell_type": "code",
      "source": [
        "string = \"\"\"Lorem ipsum dolor sit amet, consectetur adipiscing elit.\n",
        "Donec sed eros eu quam porttitor interdum ut non mi.\n",
        "Donec porttitor augue quis turpis consequat, sit amet luctus magna vehicula.\n",
        "Etiam ut erat libero. Cras convallis euismod metus vitae sollicitudin.\n",
        "Cras et augue non dolor aliquam maximus ac in sapien.\"\"\"\n",
        "\n",
        "string_auxiliar = 'Teste 123'\n",
        "\n",
        "print(string)\n",
        "\n",
        "#Primeiros 5 caracteres\n",
        "print(\"> Primeiros caracteres:\" + string[:5])\n",
        "\n",
        "#Ultimos 5 caracteres\n",
        "print(\"> Ultimos caracteres:\" + string[-5:])\n",
        "\n",
        "#Comprimento\n",
        "print(\">Comprimento:\" + str(len(string)))\n",
        "\n",
        "#Buscar um termo\n",
        "print(\">Termo existente:\" + str(\"Loren\" in string))\n",
        "\n",
        "#Concatenando strings\n",
        "print(\">Concatenando strings\" + string_auxiliar + '@' + string)"
      ],
      "metadata": {
        "colab": {
          "base_uri": "https://localhost:8080/"
        },
        "id": "SDC6x-M5TT7z",
        "outputId": "2c7bafae-3224-43a7-9241-68082ad7331e"
      },
      "execution_count": 12,
      "outputs": [
        {
          "output_type": "stream",
          "name": "stdout",
          "text": [
            "Lorem ipsum dolor sit amet, consectetur adipiscing elit.\n",
            "Donec sed eros eu quam porttitor interdum ut non mi.\n",
            "Donec porttitor augue quis turpis consequat, sit amet luctus magna vehicula.\n",
            "Etiam ut erat libero. Cras convallis euismod metus vitae sollicitudin.\n",
            "Cras et augue non dolor aliquam maximus ac in sapien.\n",
            "> Primeiros caracteres:Lorem\n",
            "> Ultimos caracteres:pien.\n",
            ">Comprimento:311\n",
            ">Termo existente:False\n",
            ">Concatenando stringsTeste 123@Lorem ipsum dolor sit amet, consectetur adipiscing elit.\n",
            "Donec sed eros eu quam porttitor interdum ut non mi.\n",
            "Donec porttitor augue quis turpis consequat, sit amet luctus magna vehicula.\n",
            "Etiam ut erat libero. Cras convallis euismod metus vitae sollicitudin.\n",
            "Cras et augue non dolor aliquam maximus ac in sapien.\n"
          ]
        }
      ]
    },
    {
      "cell_type": "code",
      "source": [
        "#Separando strings\n",
        "print(\">Separando strings:\" + str(string_auxiliar.split('@')))\n",
        "\n",
        "#Convertendo para maiuculo\n",
        "print(\">Maiuculo:\" + str(string_auxiliar.upper()))\n",
        "\n",
        "#Convertendo para minusculo\n",
        "print(\">Minusculo:\" + str(string_auxiliar.lower()))\n",
        "\n",
        "#Substituição numa string\n",
        "print(\">Substituição:\" + str(string_auxiliar.replace(\"123\", \"789\")))\n",
        "\n",
        "#Remova espaços em branco na string\n",
        "nova_string = \"Python\"\n",
        "print(\">Nova string:\"+ str(nova_string.strip()))"
      ],
      "metadata": {
        "colab": {
          "base_uri": "https://localhost:8080/"
        },
        "id": "k4928NcWZVG5",
        "outputId": "9066a29e-e39a-4eab-cbf6-86b3bbdfd9ed"
      },
      "execution_count": 17,
      "outputs": [
        {
          "output_type": "stream",
          "name": "stdout",
          "text": [
            ">Separando strings:['Teste 123']\n",
            ">Maiuculo:TESTE 123\n",
            ">Minusculo:teste 123\n",
            ">Substituição:Teste 789\n",
            ">Nova string:Python\n"
          ]
        }
      ]
    },
    {
      "cell_type": "code",
      "source": [
        "#Notação de lista: []\n",
        "\n",
        "sequencia = [1,2,3]\n",
        "\n",
        "sequencia_auxiliar = ['a', 7, 9.62]\n",
        "\n",
        "print(\"Sequencia\")\n",
        "print(sequencia)\n",
        "\n",
        "print(\"Sequencia auxiliar\")\n",
        "print(sequencia_auxiliar)\n",
        "\n",
        "#Conectando listas\n",
        "print(\"Conectando listas:\")"
      ],
      "metadata": {
        "id": "y0lv5jwSpQQo"
      },
      "execution_count": null,
      "outputs": []
    }
  ]
}