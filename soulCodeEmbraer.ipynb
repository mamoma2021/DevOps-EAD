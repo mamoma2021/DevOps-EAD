{
  "nbformat": 4,
  "nbformat_minor": 0,
  "metadata": {
    "colab": {
      "provenance": [],
      "authorship_tag": "ABX9TyNMuJ1MDURd62L2dwbLa023",
      "include_colab_link": true
    },
    "kernelspec": {
      "name": "python3",
      "display_name": "Python 3"
    },
    "language_info": {
      "name": "python"
    }
  },
  "cells": [
    {
      "cell_type": "markdown",
      "metadata": {
        "id": "view-in-github",
        "colab_type": "text"
      },
      "source": [
        "<a href=\"https://colab.research.google.com/github/mamoma2021/DevOps-EAD/blob/main/soulCodeEmbraer.ipynb\" target=\"_parent\"><img src=\"https://colab.research.google.com/assets/colab-badge.svg\" alt=\"Open In Colab\"/></a>"
      ]
    },
    {
      "cell_type": "code",
      "source": [
        "'''Variaveis - Posso armazenar dados simples-  string(str) , numeros inteiros(int),\n",
        "ponto flutuante(float), boleno(bol)'''\n",
        "\n",
        "print('Ola Mundo!')\n",
        "\n",
        "nome = 'Marcia'\n",
        "idade = 37\n",
        "altura = 1.70\n",
        "\n",
        "print(nome, idade, altura)"
      ],
      "metadata": {
        "colab": {
          "base_uri": "https://localhost:8080/"
        },
        "id": "xstgRQ48h1rz",
        "outputId": "f449a9e6-45e9-4e22-a31b-ae5630727ace"
      },
      "execution_count": 5,
      "outputs": [
        {
          "output_type": "stream",
          "name": "stdout",
          "text": [
            "Ola Mundo!\n",
            "Marcia 37 1.7\n"
          ]
        }
      ]
    },
    {
      "cell_type": "code",
      "source": [
        "print(type(nome))\n",
        "print(type(idade))\n",
        "print(type(altura))"
      ],
      "metadata": {
        "colab": {
          "base_uri": "https://localhost:8080/"
        },
        "id": "H0SXwFiciQnE",
        "outputId": "7ae089c6-ea80-4b6f-c5f8-b8cf4566b5f2"
      },
      "execution_count": 4,
      "outputs": [
        {
          "output_type": "stream",
          "name": "stdout",
          "text": [
            "<class 'str'>\n",
            "<class 'int'>\n",
            "<class 'float'>\n"
          ]
        }
      ]
    },
    {
      "cell_type": "code",
      "source": [],
      "metadata": {
        "id": "g2v133RljAjL"
      },
      "execution_count": null,
      "outputs": []
    },
    {
      "cell_type": "code",
      "source": [
        "#Conversão de tipos\n",
        "\n",
        "n = 10   #int\n",
        "x = '10' #str\n",
        "\n",
        "print(type(n))\n",
        "print(type(x))\n",
        "\n",
        "n = str(n)\n",
        "print(type(n))\n",
        "\n",
        "\n",
        "print (x + str(n))\n",
        "print(int(n) + int(x))"
      ],
      "metadata": {
        "colab": {
          "base_uri": "https://localhost:8080/"
        },
        "id": "C9NTvz_UkvIL",
        "outputId": "ebd83d45-de2a-4488-8a91-f795e16e90dd"
      },
      "execution_count": 12,
      "outputs": [
        {
          "output_type": "stream",
          "name": "stdout",
          "text": [
            "<class 'int'>\n",
            "<class 'str'>\n",
            "<class 'str'>\n",
            "1010\n",
            "20\n"
          ]
        }
      ]
    },
    {
      "cell_type": "code",
      "source": [
        "# Entrade de dados\n",
        "\n",
        "nome = input('Digite o seu nome completo:')\n",
        "idade = int(input('Digite a sua idade:'))\n",
        "\n",
        "print(type(nome))\n",
        "print(type(idade))\n",
        "\n",
        "print ('Olá', nome, 'você tem', idade, 'anos')"
      ],
      "metadata": {
        "colab": {
          "base_uri": "https://localhost:8080/"
        },
        "id": "CshRI-79oFMb",
        "outputId": "7e08f9a5-5efd-43da-c4fa-908c9c37d016"
      },
      "execution_count": 14,
      "outputs": [
        {
          "output_type": "stream",
          "name": "stdout",
          "text": [
            "Digite o seu nome completo:maria\n",
            "Digite a sua idade:1\n",
            "<class 'str'>\n",
            "<class 'int'>\n",
            "Olá maria você tem 1 anos\n"
          ]
        }
      ]
    },
    {
      "cell_type": "code",
      "source": [
        "''' Operadores aritméticos\n",
        "Soma +\n",
        "Subtração -\n",
        "Multiplicação *\n",
        "Divisão /\n",
        "Exponenciação **\n",
        "Resto da divisão %'''\n",
        "\n",
        "#Soma\n",
        "\n",
        "num1 = 10\n",
        "num2 = 20\n",
        "\n",
        "soma = num1 + num2\n",
        "print(soma)\n",
        "\n",
        "#Subtração\n",
        "\n",
        "sub = num2 - num1\n",
        "print(sub)\n",
        "\n",
        "#Multiplicação\n",
        "\n",
        "mult = num1 * num2\n",
        "print(mult)\n",
        "\n",
        "#Divisão\n",
        "\n",
        "div = num2 / num1\n",
        "print(div)\n",
        "\n",
        "#Exponenciação\n",
        "\n",
        "exp = num1 ** num2\n",
        "print(exp)\n",
        "\n",
        "#Resto da divisão\n",
        "\n",
        "res = num1 % num2\n",
        "print(res)\n",
        "\n"
      ],
      "metadata": {
        "colab": {
          "base_uri": "https://localhost:8080/"
        },
        "id": "6YP1s-IdpzCp",
        "outputId": "6691345b-87a4-47d0-b306-573daa5097e2"
      },
      "execution_count": 16,
      "outputs": [
        {
          "output_type": "stream",
          "name": "stdout",
          "text": [
            "30\n",
            "10\n",
            "200\n",
            "2.0\n",
            "100000000000000000000\n",
            "10\n"
          ]
        }
      ]
    },
    {
      "cell_type": "code",
      "source": [
        "#Criar um algoritmo que leia dois numeros float e retorne as 4 operações básicas da matemática\n",
        "\n",
        "''' ler o primeiro numero tipo float\n",
        "    ler o segudo numero tipo float\n",
        "\n",
        "    somar o primeiro numero com o segundo numero e jogar em uma variavel soma\n",
        "    subtrair o primeiro numero com o segundo numero e jogar em uma variavel sub\n",
        "    multiplicar o primeiro numero com o segundo numero e jogar em uma variavel mult\n",
        "    dividir o primeiro numero com o segundo numero e jogar em uma variavel div\n",
        "\n",
        "    exibir cada uma das variaveis na tela(soma,sub,mult,div) '''\n",
        "\n",
        "num1 = float(input('Digite o primeiro numero:'))\n",
        "num2 = float(input('Digite o segudo numero:'))\n",
        "\n",
        "soma = num1 + num2\n",
        "sub = num1 - num2\n",
        "mult = num1 * num2\n",
        "div = num1 / num2\n",
        "\n",
        "print('Soma:', soma)\n",
        "print('Subtração:', sub)\n",
        "print('Multiplicação:', mult)\n",
        "print('Divisão:', div)\n"
      ],
      "metadata": {
        "colab": {
          "base_uri": "https://localhost:8080/"
        },
        "id": "McPyBRbSsGZf",
        "outputId": "dcd2dbfb-0196-4fe4-cacc-bbdc2ebc37d5"
      },
      "execution_count": 18,
      "outputs": [
        {
          "output_type": "stream",
          "name": "stdout",
          "text": [
            "Digite o primeiro numero:10\n",
            "Digite o segudo numero:10\n",
            "Soma: 20.0\n",
            "Subtração: 0.0\n",
            "Multiplicação: 100.0\n",
            "Divisão: 1.0\n"
          ]
        }
      ]
    },
    {
      "cell_type": "code",
      "source": [
        "# Criar um algoritmo que exiba apenas a parte decimal de uma divisão de 10 por 3\n",
        "''' Criar uma variavel que receba o valor 10\n",
        "    Criar uma variavel que receba o valor 3\n",
        "    operacao1 = se eu dividir o primeiro nomero pelo segundo / recebe a divisão total com os decimais\n",
        "    operacao2 = se eu dividir o primeiro nomero pelo segundo // recebe apenas a parte inteira da divisão\n",
        "    operacao1 - operacao2  = parte_decimal\n",
        "    '''\n",
        "\n",
        "n1 = 10\n",
        "n2 = 3\n",
        "\n",
        "operacao1 = n1 / n2\n",
        "operacao2 = n1 // n2\n",
        "\n",
        "parte_decimal = operacao1 - operacao2\n",
        "\n",
        "print('Resultado da operacao 1:', operacao1)\n",
        "print('Resultado da operacao 2:', operacao2)\n",
        "print('Parte decimal:', parte_decimal)\n",
        "\n"
      ],
      "metadata": {
        "colab": {
          "base_uri": "https://localhost:8080/"
        },
        "id": "dUUXUuiexIem",
        "outputId": "f06f4576-d188-4c9a-8963-d1ca2855d9de"
      },
      "execution_count": 22,
      "outputs": [
        {
          "output_type": "stream",
          "name": "stdout",
          "text": [
            "Resultado da operacao 1: 3.3333333333333335\n",
            "Resultado da operacao 2: 3\n",
            "Parte decimal: 0.3333333333333335\n"
          ]
        }
      ]
    },
    {
      "cell_type": "code",
      "source": [],
      "metadata": {
        "id": "BiKccJfYxEEp"
      },
      "execution_count": null,
      "outputs": []
    }
  ]
}